{
  "nbformat": 4,
  "nbformat_minor": 0,
  "metadata": {
    "colab": {
      "name": "AlexNet.ipynb",
      "provenance": []
    },
    "kernelspec": {
      "name": "python3",
      "display_name": "Python 3"
    },
    "accelerator": "GPU"
  },
  "cells": [
    {
      "cell_type": "markdown",
      "metadata": {
        "id": "4pOvA8g3SzIb",
        "colab_type": "text"
      },
      "source": [
        "Connet to Drive"
      ]
    },
    {
      "cell_type": "code",
      "metadata": {
        "id": "58BoqT33zFzJ",
        "colab_type": "code",
        "outputId": "80f78a2d-ef42-4e59-e76b-d692a98faa51",
        "colab": {
          "base_uri": "https://localhost:8080/",
          "height": 53
        }
      },
      "source": [
        "from google.colab import drive\n",
        "drive.mount('/content/gdrive')\n",
        "%cd /content/gdrive/My\\ Drive/Colab\\ Notebooks"
      ],
      "execution_count": 0,
      "outputs": [
        {
          "output_type": "stream",
          "text": [
            "Drive already mounted at /content/gdrive; to attempt to forcibly remount, call drive.mount(\"/content/gdrive\", force_remount=True).\n",
            "/content/gdrive/My Drive/Colab Notebooks\n"
          ],
          "name": "stdout"
        }
      ]
    },
    {
      "cell_type": "markdown",
      "metadata": {
        "id": "vwFC_1BWT9Mg",
        "colab_type": "text"
      },
      "source": [
        "Imports"
      ]
    },
    {
      "cell_type": "code",
      "metadata": {
        "id": "aBKwc2QVzTqA",
        "colab_type": "code",
        "outputId": "e7e5902f-683a-4874-ff0a-d790764eeb7b",
        "colab": {
          "base_uri": "https://localhost:8080/",
          "height": 35
        }
      },
      "source": [
        "%cd /content/gdrive/My\\ Drive/Colab\\ Notebooks\n",
        "import os\n",
        "import numpy as np\n",
        "import glob\n",
        "import csv\n",
        "import keras\n",
        "import scipy\n",
        "from MRNet.partition import partition\n",
        "from MRNet.data_generator import MRNet_data_generator\n",
        "from keras.layers import Conv2D,Input, MaxPool2D, AveragePooling2D, Dropout, Dense, Flatten\n",
        "from keras.preprocessing.image import ImageDataGenerator\n",
        "from PIL import Image\n",
        "from matplotlib.pyplot import imshow\n",
        "import random\n",
        "import tensorflow as tf\n",
        "from numpy.random import seed\n",
        "from sklearn.utils import class_weight\n",
        "from sklearn.metrics import roc_auc_score, roc_curve\n",
        "from sklearn.metrics import auc as roc_auc\n",
        "from MRNet.AlexNet_model_generator import MRNet_AlexNet_model"
      ],
      "execution_count": 0,
      "outputs": [
        {
          "output_type": "stream",
          "text": [
            "/content/gdrive/My Drive/Colab Notebooks\n"
          ],
          "name": "stdout"
        }
      ]
    },
    {
      "cell_type": "markdown",
      "metadata": {
        "id": "OLUOkTR2T60Y",
        "colab_type": "text"
      },
      "source": [
        "Training"
      ]
    },
    {
      "cell_type": "code",
      "metadata": {
        "id": "VA8jOM1ozVt9",
        "colab_type": "code",
        "outputId": "9ef701b5-0489-47b5-b237-9e7fe92945ef",
        "colab": {
          "base_uri": "https://localhost:8080/",
          "height": 1000
        }
      },
      "source": [
        "from google.colab import drive\n",
        "\n",
        "drive.mount('/content/gdrive')\n",
        "\n",
        "%cd /content/gdrive/My\\ Drive/Colab\\ Notebooks\n",
        "import os\n",
        "import numpy as np\n",
        "import glob\n",
        "import csv\n",
        "import keras\n",
        "import scipy\n",
        "from MRNet.partition import partition\n",
        "from MRNet.data_generator import MRNet_data_generator\n",
        "from keras.layers import Conv2D,Input, MaxPool2D, AveragePooling2D, Dropout, Dense, Flatten\n",
        "from keras.preprocessing.image import ImageDataGenerator\n",
        "from PIL import Image\n",
        "from matplotlib.pyplot import imshow\n",
        "import random\n",
        "import tensorflow as tf\n",
        "from numpy.random import seed\n",
        "from sklearn.utils import class_weight\n",
        "from MRNet.AlexNet_model_generator import MRNet_AlexNet_model\n",
        "\n",
        "label_type = 'abnormal'\n",
        "exam_view = 'axial'\n",
        "model, cbs = MRNet_AlexNet_model(1, 0.00001, [label_type, exam_view])\n",
        "print(\"model output shape: \",model(tf.ones((2,51, 227, 227, 3))).shape)\n",
        "model.load_weights(\"/content/gdrive/My Drive/Colab Notebooks/MRNet/training_AlexNet/\"+label_type+\"/\"+exam_view+\"/weights.12.hdf5\")\n",
        "data_path = \"/content/gdrive/My Drive/Colab Notebooks/MRNet/dataset/MRNet-v1.0/\"\n",
        "p, l = partition(data_path)\n",
        "\n",
        "pos = 0\n",
        "for e in p['train'][exam_view]:\n",
        "  if l[e][\"abnormal\"] == 1:\n",
        "    pos += 1\n",
        "total = len(p['train'][exam_view])\n",
        "neg = total - pos\n",
        "class_count_train = {0: neg, 1: pos}\n",
        "pos = 0\n",
        "for e in p['test'][exam_view]:\n",
        "  if l[e][\"abnormal\"] == 1:\n",
        "    pos += 1\n",
        "total = len(p['test'][exam_view])\n",
        "neg = total - pos\n",
        "class_count_test = {0: neg, 1: pos}\n",
        "class_weight_test = {0: total/neg, 1: total/pos}\n",
        "\n",
        "batch_size = 1\n",
        "train_data_gen = MRNet_data_generator(data_path, p, l,class_count=class_count_train , batch_size=1,model=\"AlexNet\",data_type='train', label_type=label_type, exam_type=exam_view, scale_to=(227,227), aug_size=0)\n",
        "print(\"train_data_gen: \", train_data_gen)\n",
        "test_data_gen = MRNet_data_generator(data_path, p, l, class_count=class_count_test, batch_size=1,model=\"AlexNet\",data_type='test', label_type=label_type, exam_type=exam_view, scale_to=(227,227), aug_size=0)\n",
        "print(\"test_data_gen: \", test_data_gen)\n",
        "model.fit(x=train_data_gen,validation_data=test_data_gen, epochs=12, verbose=True, callbacks=cbs,shuffle=False, use_multiprocessing=True, workers=6)"
      ],
      "execution_count": 0,
      "outputs": [
        {
          "output_type": "stream",
          "text": [
            "Drive already mounted at /content/gdrive; to attempt to forcibly remount, call drive.mount(\"/content/gdrive\", force_remount=True).\n",
            "/content/gdrive/My Drive/Colab Notebooks\n"
          ],
          "name": "stdout"
        },
        {
          "output_type": "stream",
          "text": [
            "Using TensorFlow backend.\n"
          ],
          "name": "stderr"
        },
        {
          "output_type": "stream",
          "text": [
            "WARNING:tensorflow:From /usr/local/lib/python3.6/dist-packages/tensorflow/python/ops/resource_variable_ops.py:1817: calling BaseResourceVariable.__init__ (from tensorflow.python.ops.resource_variable_ops) with constraint is deprecated and will be removed in a future version.\n",
            "Instructions for updating:\n",
            "If using Keras pass *_constraint arguments to layers.\n",
            "checkpoint_dir: /content/gdrive/My Drive/Colab Notebooks/MRNet/training_AlexNet/abnormal/axial/\n",
            "model output shape:  (1, 1)\n",
            "Initializing Data Generator:\n",
            "factor :  4.242268041237113\n",
            "model:  AlexNet\n",
            "data type:  train\n",
            "Combination:  abnormal  and  axial\n",
            "data path:  /content/gdrive/My Drive/Colab Notebooks/MRNet/dataset/MRNet-v1.0/train\n",
            "Number of inputs:  1646\n",
            "input size:  (227, 227)\n",
            "train_data_gen:  <MRNet.data_generator.MRNet_data_generator object at 0x7ff1a0089710>\n",
            "Initializing Data Generator:\n",
            "factor :  3.9130434782608696\n",
            "model:  AlexNet\n",
            "data type:  test\n",
            "Combination:  abnormal  and  axial\n",
            "data path:  /content/gdrive/My Drive/Colab Notebooks/MRNet/dataset/MRNet-v1.0/test\n",
            "Number of inputs:  180\n",
            "input size:  (227, 227)\n",
            "test_data_gen:  <MRNet.data_generator.MRNet_data_generator object at 0x7ff1a038d0b8>\n",
            "Epoch 1/12\n",
            "1646/1646 [==============================] - 253s 154ms/step - loss: 0.0667 - tp: 401.8870 - fp: 4.9083 - tn: 405.3524 - fn: 11.3524 - accuracy: 0.9830 - precision: 0.9890 - recall: 0.9769 - auc: 0.9978 - val_loss: 1.9737 - val_tp: 839.2611 - val_fp: 34.2778 - val_tn: 831.5111 - val_fn: 31.4500 - val_accuracy: 0.9624 - val_precision: 0.9614 - val_recall: 0.9639 - val_auc: 0.9881\n",
            "\n",
            "Epoch 00001: saving model to /content/gdrive/My Drive/Colab Notebooks/MRNet/training_AlexNet/abnormal/axial/weights.01.hdf5\n",
            "Epoch 2/12\n",
            "1646/1646 [==============================] - 215s 130ms/step - loss: 0.0349 - tp: 1289.1696 - fp: 67.4623 - tn: 1253.7479 - fn: 39.1203 - accuracy: 0.9588 - precision: 0.9490 - recall: 0.9700 - auc: 0.9860 - val_loss: 0.0068 - val_tp: 1731.5723 - val_fp: 92.2056 - val_tn: 1687.1444 - val_fn: 51.5778 - val_accuracy: 0.9597 - val_precision: 0.9496 - val_recall: 0.9711 - val_auc: 0.9868\n",
            "\n",
            "Epoch 00002: saving model to /content/gdrive/My Drive/Colab Notebooks/MRNet/training_AlexNet/abnormal/axial/weights.02.hdf5\n",
            "  TestCallback:  False\n",
            "Epoch 3/12\n",
            "1646/1646 [==============================] - 216s 131ms/step - loss: 0.0457 - tp: 2174.4412 - fp: 124.2989 - tn: 2109.7632 - fn: 66.9970 - accuracy: 0.9569 - precision: 0.9454 - recall: 0.9699 - auc: 0.9862 - val_loss: 3.1174e-05 - val_tp: 2607.0723 - val_fp: 139.9722 - val_tn: 2556.0945 - val_fn: 85.3611 - val_accuracy: 0.9582 - val_precision: 0.9491 - val_recall: 0.9683 - val_auc: 0.9855\n",
            "\n",
            "Epoch 00003: saving model to /content/gdrive/My Drive/Colab Notebooks/MRNet/training_AlexNet/abnormal/axial/weights.03.hdf5\n",
            "  TestCallback:  False\n",
            "Epoch 4/12\n",
            "1646/1646 [==============================] - 216s 131ms/step - loss: 0.0257 - tp: 3062.1526 - fp: 150.0146 - tn: 2993.2959 - fn: 96.0371 - accuracy: 0.9608 - precision: 0.9531 - recall: 0.9694 - auc: 0.9864 - val_loss: 1.1683e-05 - val_tp: 3498.8999 - val_fp: 179.6555 - val_tn: 3432.3723 - val_fn: 103.5722 - val_accuracy: 0.9608 - val_precision: 0.9512 - val_recall: 0.9713 - val_auc: 0.9860\n",
            "\n",
            "Epoch 00004: saving model to /content/gdrive/My Drive/Colab Notebooks/MRNet/training_AlexNet/abnormal/axial/weights.04.hdf5\n",
            "  TestCallback:  False\n",
            "Epoch 5/12\n",
            "1646/1646 [==============================] - 216s 131ms/step - loss: 0.0104 - tp: 3961.9836 - fp: 199.0000 - tn: 3857.6714 - fn: 108.8451 - accuracy: 0.9620 - precision: 0.9520 - recall: 0.9732 - auc: 0.9864 - val_loss: 6.2112 - val_tp: 4407.3721 - val_fp: 225.7944 - val_tn: 4293.4834 - val_fn: 113.8500 - val_accuracy: 0.9624 - val_precision: 0.9513 - val_recall: 0.9748 - val_auc: 0.9865\n",
            "\n",
            "Epoch 00005: saving model to /content/gdrive/My Drive/Colab Notebooks/MRNet/training_AlexNet/abnormal/axial/weights.05.hdf5\n",
            "  TestCallback:  False\n",
            "Epoch 6/12\n",
            "1646/1646 [==============================] - 217s 132ms/step - loss: 0.0415 - tp: 4853.3750 - fp: 254.6847 - tn: 4726.2710 - fn: 119.1695 - accuracy: 0.9624 - precision: 0.9500 - recall: 0.9760 - auc: 0.9864 - val_loss: 0.0017 - val_tp: 5302.8945 - val_fp: 289.2333 - val_tn: 5142.0610 - val_fn: 132.3111 - val_accuracy: 0.9612 - val_precision: 0.9483 - val_recall: 0.9757 - val_auc: 0.9853\n",
            "\n",
            "Epoch 00006: saving model to /content/gdrive/My Drive/Colab Notebooks/MRNet/training_AlexNet/abnormal/axial/weights.06.hdf5\n",
            "  TestCallback:  False\n",
            "Epoch 7/12\n",
            "1646/1646 [==============================] - 215s 131ms/step - loss: 0.0099 - tp: 5747.0918 - fp: 319.0000 - tn: 5574.7070 - fn: 138.7011 - accuracy: 0.9611 - precision: 0.9473 - recall: 0.9764 - auc: 0.9850 - val_loss: 2.1078 - val_tp: 6206.2666 - val_fp: 347.4611 - val_tn: 5997.9224 - val_fn: 140.8500 - val_accuracy: 0.9615 - val_precision: 0.9470 - val_recall: 0.9778 - val_auc: 0.9850\n",
            "\n",
            "Epoch 00007: saving model to /content/gdrive/My Drive/Colab Notebooks/MRNet/training_AlexNet/abnormal/axial/weights.07.hdf5\n",
            "  TestCallback:  False\n",
            "Epoch 8/12\n",
            "1646/1646 [==============================] - 215s 130ms/step - loss: 0.0019 - tp: 6659.0986 - fp: 380.0000 - tn: 6420.4014 - fn: 146.0000 - accuracy: 0.9613 - precision: 0.9460 - recall: 0.9785 - auc: 0.9847 - val_loss: 3.8647 - val_tp: 7108.7725 - val_fp: 419.5278 - val_tn: 6840.9609 - val_fn: 149.2389 - val_accuracy: 0.9608 - val_precision: 0.9443 - val_recall: 0.9794 - val_auc: 0.9842\n",
            "\n",
            "Epoch 00007: saving model to /content/gdrive/My Drive/Colab Notebooks/MRNet/training_AlexNet/abnormal/axial/weights.07.hdf5\n",
            "\n",
            "Epoch 00008: saving model to /content/gdrive/My Drive/Colab Notebooks/MRNet/training_AlexNet/abnormal/axial/weights.08.hdf5\n",
            "  TestCallback:  False\n",
            "Epoch 9/12\n",
            "1646/1646 [==============================] - 216s 131ms/step - loss: 0.0671 - tp: 7561.4238 - fp: 451.8834 - tn: 7263.0107 - fn: 155.1817 - accuracy: 0.9606 - precision: 0.9436 - recall: 0.9799 - auc: 0.9841 - val_loss: 0.0085 - val_tp: 7984.7446 - val_fp: 493.1056 - val_tn: 7681.1724 - val_fn: 185.4778 - val_accuracy: 0.9585 - val_precision: 0.9418 - val_recall: 0.9773 - val_auc: 0.9839\n",
            "\n",
            "Epoch 00009: saving model to /content/gdrive/My Drive/Colab Notebooks/MRNet/training_AlexNet/abnormal/axial/weights.09.hdf5\n",
            "  TestCallback:  False\n",
            "Epoch 10/12\n",
            "1646/1646 [==============================] - 214s 130ms/step - loss: 0.0179 - tp: 8427.2344 - fp: 515.6841 - tn: 8117.6562 - fn: 196.9259 - accuracy: 0.9587 - precision: 0.9423 - recall: 0.9771 - auc: 0.9841 - val_loss: 3.4657 - val_tp: 8884.4502 - val_fp: 543.6833 - val_tn: 8541.2725 - val_fn: 201.0945 - val_accuracy: 0.9590 - val_precision: 0.9423 - val_recall: 0.9779 - val_auc: 0.9839\n",
            "\n",
            "Epoch 00010: saving model to /content/gdrive/My Drive/Colab Notebooks/MRNet/training_AlexNet/abnormal/axial/weights.10.hdf5\n",
            "  TestCallback:  False\n",
            "Epoch 11/12\n",
            "1646/1646 [==============================] - 213s 129ms/step - loss: 0.0571 - tp: 9343.6064 - fp: 576.3554 - tn: 8950.4248 - fn: 213.1136 - accuracy: 0.9586 - precision: 0.9419 - recall: 0.9777 - auc: 0.9837 - val_loss: 1.5008 - val_tp: 9769.5000 - val_fp: 609.0722 - val_tn: 9390.7998 - val_fn: 227.1278 - val_accuracy: 0.9582 - val_precision: 0.9413 - val_recall: 0.9773 - val_auc: 0.9836\n",
            "\n",
            "Epoch 00011: saving model to /content/gdrive/My Drive/Colab Notebooks/MRNet/training_AlexNet/abnormal/axial/weights.11.hdf5\n",
            "\n",
            "Epoch 00010: saving model to /content/gdrive/My Drive/Colab Notebooks/MRNet/training_AlexNet/abnormal/axial/weights.10.hdf5\n",
            "  TestCallback:  False\n",
            "Epoch 12/12\n",
            "1646/1646 [==============================] - 212s 129ms/step - loss: 0.0297 - tp: 10223.4385 - fp: 641.0620 - tn: 9811.7939 - fn: 233.2047 - accuracy: 0.9582 - precision: 0.9410 - recall: 0.9777 - auc: 0.9834 - val_loss: 2.8380 - val_tp: 10668.2832 - val_fp: 674.6166 - val_tn: 10236.5225 - val_fn: 243.0778 - val_accuracy: 0.9579 - val_precision: 0.9405 - val_recall: 0.9777 - val_auc: 0.9832\n",
            "\n",
            "Epoch 00012: saving model to /content/gdrive/My Drive/Colab Notebooks/MRNet/training_AlexNet/abnormal/axial/weights.12.hdf5\n",
            "  TestCallback:  False\n"
          ],
          "name": "stdout"
        },
        {
          "output_type": "execute_result",
          "data": {
            "text/plain": [
              "<keras.callbacks.callbacks.History at 0x7ff1587b2d68>"
            ]
          },
          "metadata": {
            "tags": []
          },
          "execution_count": 1
        }
      ]
    },
    {
      "cell_type": "markdown",
      "metadata": {
        "id": "Nii0IHkuT4AA",
        "colab_type": "text"
      },
      "source": [
        "Validation/Testing"
      ]
    },
    {
      "cell_type": "code",
      "metadata": {
        "id": "DFHnoyHP6_Mf",
        "colab_type": "code",
        "outputId": "cb86019f-fac6-457e-a650-49d03bdd1d45",
        "colab": {
          "base_uri": "https://localhost:8080/",
          "height": 1000
        }
      },
      "source": [
        "from google.colab import drive\n",
        "\n",
        "drive.mount('/content/gdrive')\n",
        "\n",
        "%cd /content/gdrive/My\\ Drive/Colab\\ Notebooks\n",
        "import os\n",
        "import numpy as np\n",
        "import glob\n",
        "import csv\n",
        "import keras\n",
        "import scipy\n",
        "from MRNet.partition import partition\n",
        "from MRNet.data_generator import MRNet_data_generator\n",
        "from keras.layers import Conv2D,Input, MaxPool2D, AveragePooling2D, Dropout, Dense, Flatten\n",
        "from keras.preprocessing.image import ImageDataGenerator\n",
        "from PIL import Image\n",
        "from matplotlib.pyplot import imshow\n",
        "import random\n",
        "import tensorflow as tf\n",
        "from numpy.random import seed\n",
        "from sklearn.utils import class_weight\n",
        "from sklearn.metrics import roc_auc_score, roc_curve\n",
        "from sklearn.metrics import auc as roc_auc\n",
        "from MRNet.AlexNet_model_generator import MRNet_AlexNet_model\n",
        "\n",
        "# evaluation\n",
        "\n",
        "data_path = \"/content/gdrive/My Drive/Colab Notebooks/MRNet/dataset/MRNet-v1.0\"\n",
        "combinations = [\n",
        "                [\"abnormal\", \"axial\"],\n",
        "                [\"abnormal\", \"coronal\"],\n",
        "                [\"abnormal\", \"sagittal\"],\n",
        "                [\"ACL\", \"axial\"],\n",
        "                [\"ACL\", \"coronal\"],\n",
        "                [\"ACL\", \"sagittal\"],\n",
        "                [\"meniscus\", \"axial\"],\n",
        "                [\"meniscus\", \"coronal\"],\n",
        "                [\"meniscus\", \"sagittal\"],\n",
        "]\n",
        "\n",
        "for c in combinations:\n",
        "  label_type = c[0]\n",
        "  exam_view = c[1]\n",
        "  model, cbs = MRNet_AlexNet_model(1, 0.00001,combination=[label_type, exam_view])\n",
        "  model.load_weights(\"/content/gdrive/My Drive/Colab Notebooks/MRNet/training_AlexNet/\"+label_type+\"/\"+exam_view+\"/weights.12.hdf5\")\n",
        "  p, l = partition(data_path)\n",
        "  pos = 0\n",
        "  for e in p['test'][exam_view]:\n",
        "    if l[e][label_type] == 1:\n",
        "      pos += 1\n",
        "  total = len(p['test'][exam_view])\n",
        "  neg = total - pos\n",
        "  class_count_valid = {0: neg, 1: pos}\n",
        "  batch_size = 1\n",
        "  print(model.metrics_names)\n",
        "\n",
        "  valid_data_gen = MRNet_data_generator(data_path, p, l,class_count=class_count_valid , batch_size=1,model=\"AlexNet\",data_type='test', shuffle=False,label_type=label_type, exam_type=exam_view, scale_to=(227,227), aug_size=0)\n",
        "  d = model.evaluate_generator(valid_data_gen, total, verbose=1)\n",
        "  print(model.metrics_names[0], \"=\",d[0],model.metrics_names[1], \"=\",d[1],model.metrics_names[2], \"=\",d[2],model.metrics_names[3], \"=\",d[3],model.metrics_names[4], \"=\",d[4],model.metrics_names[5], \"=\",d[5],model.metrics_names[6], \"=\",d[6],model.metrics_names[7], \"=\",d[7],model.metrics_names[8], \"=\",d[8]);\n",
        "  model.predict_generator(valid_data_gen, 5, verbose=1)"
      ],
      "execution_count": 0,
      "outputs": [
        {
          "output_type": "stream",
          "text": [
            "Drive already mounted at /content/gdrive; to attempt to forcibly remount, call drive.mount(\"/content/gdrive\", force_remount=True).\n",
            "/content/gdrive/My Drive/Colab Notebooks\n",
            "checkpoint_dir: /content/gdrive/My Drive/Colab Notebooks/MRNet/training_AlexNet/abnormal/axial/\n",
            "['loss', 'tp', 'fp', 'tn', 'fn', 'accuracy', 'precision', 'recall', 'auc']\n",
            "Initializing Data Generator:\n",
            "factor :  3.9130434782608696\n",
            "model:  AlexNet\n",
            "data type:  test\n",
            "Combination:  abnormal  and  axial\n",
            "data path:  /content/gdrive/My Drive/Colab Notebooks/MRNet/dataset/MRNet-v1.0/test\n",
            "Number of inputs:  180\n",
            "input size:  (227, 227)\n",
            "113/113 [==============================] - 8s 69ms/step\n",
            "loss = 0.0001587993756402284 tp = 40.69911575317383 fp = 8.849557876586914 tn = 3.920353889465332 fn = 3.530973434448242 accuracy = 0.7728577256202698 precision = 0.801662027835846 recall = 0.931233823299408 auc = 0.7387261986732483\n",
            "5/5 [==============================] - 0s 88ms/step\n",
            "checkpoint_dir: /content/gdrive/My Drive/Colab Notebooks/MRNet/training_AlexNet/abnormal/coronal/\n",
            "['loss', 'tp', 'fp', 'tn', 'fn', 'accuracy', 'precision', 'recall', 'auc']\n",
            "Initializing Data Generator:\n",
            "factor :  3.9130434782608696\n",
            "model:  AlexNet\n",
            "data type:  test\n",
            "Combination:  abnormal  and  coronal\n",
            "data path:  /content/gdrive/My Drive/Colab Notebooks/MRNet/dataset/MRNet-v1.0/test\n",
            "Number of inputs:  180\n",
            "input size:  (227, 227)\n",
            "113/113 [==============================] - 7s 60ms/step\n",
            "loss = 0.00013900769408792257 tp = 41.398231506347656 fp = 5.7522125244140625 tn = 6.823009014129639 fn = 3.0265486240386963 accuracy = 0.8569973111152649 precision = 0.86224764585495 recall = 0.9431716203689575 auc = 0.7638546228408813\n",
            "5/5 [==============================] - 0s 80ms/step\n",
            "checkpoint_dir: /content/gdrive/My Drive/Colab Notebooks/MRNet/training_AlexNet/abnormal/sagittal/\n",
            "['loss', 'tp', 'fp', 'tn', 'fn', 'accuracy', 'precision', 'recall', 'auc']\n",
            "Initializing Data Generator:\n",
            "factor :  3.9130434782608696\n",
            "model:  AlexNet\n",
            "data type:  test\n",
            "Combination:  abnormal  and  sagittal\n",
            "data path:  /content/gdrive/My Drive/Colab Notebooks/MRNet/dataset/MRNet-v1.0/test\n",
            "Number of inputs:  180\n",
            "input size:  (227, 227)\n",
            "113/113 [==============================] - 7s 61ms/step\n",
            "loss = 2.3841860752327193e-07 tp = 43.20354080200195 fp = 7.6725664138793945 tn = 5.141592979431152 fn = 0.982300877571106 accuracy = 0.83279949426651 precision = 0.8247432708740234 recall = 0.9766597747802734 auc = 0.7641890048980713\n",
            "5/5 [==============================] - 0s 79ms/step\n",
            "checkpoint_dir: /content/gdrive/My Drive/Colab Notebooks/MRNet/training_AlexNet/ACL/axial/\n",
            "['loss', 'tp', 'fp', 'tn', 'fn', 'accuracy', 'precision', 'recall', 'auc']\n",
            "Initializing Data Generator:\n",
            "factor :  9.272727272727273\n",
            "model:  AlexNet\n",
            "data type:  test\n",
            "Combination:  ACL  and  axial\n",
            "data path:  /content/gdrive/My Drive/Colab Notebooks/MRNet/dataset/MRNet-v1.0/test\n",
            "Number of inputs:  204\n",
            "input size:  (227, 227)\n",
            "113/113 [==============================] - 8s 69ms/step\n",
            "loss = 0.07544653862714767 tp = 3.3274335861206055 fp = 5.433628082275391 tn = 46.23008728027344 fn = 2.008849620819092 accuracy = 0.875424325466156 precision = 0.35769903659820557 recall = 0.5692804455757141 auc = 0.8032140731811523\n",
            "5/5 [==============================] - 0s 91ms/step\n",
            "checkpoint_dir: /content/gdrive/My Drive/Colab Notebooks/MRNet/training_AlexNet/ACL/coronal/\n",
            "['loss', 'tp', 'fp', 'tn', 'fn', 'accuracy', 'precision', 'recall', 'auc']\n",
            "Initializing Data Generator:\n",
            "factor :  9.272727272727273\n",
            "model:  AlexNet\n",
            "data type:  test\n",
            "Combination:  ACL  and  coronal\n",
            "data path:  /content/gdrive/My Drive/Colab Notebooks/MRNet/dataset/MRNet-v1.0/test\n",
            "Number of inputs:  204\n",
            "input size:  (227, 227)\n",
            "113/113 [==============================] - 7s 61ms/step\n",
            "loss = 0.0012500943848863244 tp = 2.070796489715576 fp = 4.30088472366333 tn = 47.398231506347656 fn = 3.230088472366333 accuracy = 0.8942448496818542 precision = 0.35566264390945435 recall = 0.4672544598579407 auc = 0.7750215530395508\n",
            "5/5 [==============================] - 0s 85ms/step\n",
            "checkpoint_dir: /content/gdrive/My Drive/Colab Notebooks/MRNet/training_AlexNet/ACL/sagittal/\n",
            "['loss', 'tp', 'fp', 'tn', 'fn', 'accuracy', 'precision', 'recall', 'auc']\n",
            "Initializing Data Generator:\n",
            "factor :  9.272727272727273\n",
            "model:  AlexNet\n",
            "data type:  test\n",
            "Combination:  ACL  and  sagittal\n",
            "data path:  /content/gdrive/My Drive/Colab Notebooks/MRNet/dataset/MRNet-v1.0/test\n",
            "Number of inputs:  204\n",
            "input size:  (227, 227)\n",
            "113/113 [==============================] - 7s 61ms/step\n",
            "loss = 9.179157132166438e-06 tp = 2.9380531311035156 fp = 2.9115045070648193 tn = 48.74336242675781 fn = 2.4070796966552734 accuracy = 0.9221935272216797 precision = 0.5275521278381348 recall = 0.6029683351516724 auc = 0.8923448324203491\n",
            "5/5 [==============================] - 0s 78ms/step\n",
            "checkpoint_dir: /content/gdrive/My Drive/Colab Notebooks/MRNet/training_AlexNet/meniscus/axial/\n",
            "['loss', 'tp', 'fp', 'tn', 'fn', 'accuracy', 'precision', 'recall', 'auc']\n",
            "Initializing Data Generator:\n",
            "factor :  2.6451612903225805\n",
            "model:  AlexNet\n",
            "data type:  test\n",
            "Combination:  meniscus  and  axial\n",
            "data path:  /content/gdrive/My Drive/Colab Notebooks/MRNet/dataset/MRNet-v1.0/test\n",
            "Number of inputs:  163\n",
            "input size:  (227, 227)\n",
            "113/113 [==============================] - 8s 69ms/step\n",
            "loss = -0.0 tp = 0.0 fp = 0.0 tn = 43.99114990234375 fn = 13.008849143981934 accuracy = 0.7828426957130432 precision = 0.0 recall = 0.0 auc = 0.48672565817832947\n",
            "5/5 [==============================] - 0s 93ms/step\n",
            "checkpoint_dir: /content/gdrive/My Drive/Colab Notebooks/MRNet/training_AlexNet/meniscus/coronal/\n",
            "['loss', 'tp', 'fp', 'tn', 'fn', 'accuracy', 'precision', 'recall', 'auc']\n",
            "Initializing Data Generator:\n",
            "factor :  2.6451612903225805\n",
            "model:  AlexNet\n",
            "data type:  test\n",
            "Combination:  meniscus  and  coronal\n",
            "data path:  /content/gdrive/My Drive/Colab Notebooks/MRNet/dataset/MRNet-v1.0/test\n",
            "Number of inputs:  163\n",
            "input size:  (227, 227)\n",
            "113/113 [==============================] - 7s 61ms/step\n",
            "loss = 0.025304151698946953 tp = 9.814159393310547 fp = 21.90265464782715 tn = 21.92035484313965 fn = 3.3628318309783936 accuracy = 0.5565885305404663 precision = 0.29738354682922363 recall = 0.7519604563713074 auc = 0.7604904174804688\n",
            "5/5 [==============================] - 0s 90ms/step\n",
            "checkpoint_dir: /content/gdrive/My Drive/Colab Notebooks/MRNet/training_AlexNet/meniscus/sagittal/\n",
            "['loss', 'tp', 'fp', 'tn', 'fn', 'accuracy', 'precision', 'recall', 'auc']\n",
            "Initializing Data Generator:\n",
            "factor :  2.6451612903225805\n",
            "model:  AlexNet\n",
            "data type:  test\n",
            "Combination:  meniscus  and  sagittal\n",
            "data path:  /content/gdrive/My Drive/Colab Notebooks/MRNet/dataset/MRNet-v1.0/test\n",
            "Number of inputs:  163\n",
            "input size:  (227, 227)\n",
            "113/113 [==============================] - 7s 62ms/step\n",
            "loss = 3.2664639949798584 tp = 7.52212381362915 fp = 8.858407020568848 tn = 35.053096771240234 fn = 5.566371917724609 accuracy = 0.7769684791564941 precision = 0.49929893016815186 recall = 0.6094048023223877 auc = 0.7366182208061218\n",
            "5/5 [==============================] - 0s 85ms/step\n"
          ],
          "name": "stdout"
        }
      ]
    },
    {
      "cell_type": "markdown",
      "metadata": {
        "id": "Zpvr1bpVTO3g",
        "colab_type": "text"
      },
      "source": [
        "Create the test set"
      ]
    },
    {
      "cell_type": "code",
      "metadata": {
        "id": "3B2vPoziS8co",
        "colab_type": "code",
        "colab": {}
      },
      "source": [
        "import os\n",
        "import pickle\n",
        "\n",
        "data_path = \"/content/gdrive/My Drive/Colab Notebooks/MRNet/dataset/MRNet-v1.0\"\n",
        "\n",
        "with open(data_path+\"/validation_exams.txt\", \"rb\") as fp:\n",
        "  v_set = pickle.load(fp)\n",
        "os.mkdir(data_path+'/test/')\n",
        "os.mkdir(data_path+'/test/'+'axial/')\n",
        "os.mkdir(data_path+'/test/'+'coronal/')\n",
        "os.mkdir(data_path+'/test/'+'sagittal/')\n",
        "\n",
        "for e in v_set:\n",
        "  os.rename(data_path + '/train/'+'axial/' + e + '.npy', data_path+'/test/'+'axial/' + e + '.npy')\n",
        "  os.rename(data_path + '/train/'+'coronal/' + e + '.npy', data_path+'/test/'+'coronal/' + e + '.npy')\n",
        "  os.rename(data_path + '/train/'+'sagittal/' + e + '.npy', data_path+'/test/'+'sagittal/' + e + '.npy')"
      ],
      "execution_count": 0,
      "outputs": []
    },
    {
      "cell_type": "markdown",
      "metadata": {
        "id": "JaGW_pEETS7Q",
        "colab_type": "text"
      },
      "source": [
        "figuring out ImageNet AlexNet Weights structure"
      ]
    },
    {
      "cell_type": "code",
      "metadata": {
        "id": "3dFgvSsWTTax",
        "colab_type": "code",
        "colab": {}
      },
      "source": [
        "import h5py\n",
        "\n",
        "one = h5py.File(\"/content/gdrive/My Drive/Colab Notebooks/MRNet/alexnet_weights.h5\",'r')\n",
        "two = h5py.File(\"/content/gdrive/My Drive/Colab Notebooks/MRNet/MRNet-v1.0training_AlexNet/abnormal/axial/weights.15.hdf5\",'r')\n",
        "\n",
        "print(list(one.keys()))\n",
        "print(\"===============================================\")\n",
        "# list(two.keys())\n",
        "\n",
        "# x = two['alex_net_layer_1']\n",
        "\n",
        "layer = Conv2D(filters=96, input_shape=(227,227), kernel_size=(11,11), strides=(4,4), padding=\"valid\", activation = \"relu\")\n",
        "layer.set_weights(one['conv_1']['conv_1_W'])\n",
        "layer.get_weights()\n",
        "# layer.add_weights(one['conv_1']['conv_1_W'])\n",
        "\n",
        "\n",
        "# x = one['conv_2_2']\n",
        "\n",
        "# conv1_weights = one['conv_1']['conv_1_W']\n",
        "# max_pooling1_weights = one['conv_1']['conv_1_b']\n",
        "\n",
        "# conv2_weights = one['conv_2_1']['conv_2_1_W'] + one['conv_2_2']['conv_2_2_W']\n",
        "# max_pooling2_weights = one['conv_2_1']['conv_2_1_b'] + one['conv_2_2']['conv_2_2_b']\n",
        "\n",
        "# conv3_weights = one['conv_3']['conv_3_W']\n",
        "\n",
        "# conv4_weights = one['conv_4_1']['conv_4_1_W'] + one['conv_4_2']['conv_4_2_W']\n",
        "\n",
        "# conv5_weights = one['conv_5_1']['conv_5_1_W'] + one['conv_5_2']['conv_5_2_W']\n",
        "# max_pooling5_weights = one['conv_5_1']['conv_5_1_b'] + one['conv_5_2']['conv_5_2_b']\n",
        "\n",
        "\n",
        "\n",
        "# print(list(x.keys()))\n",
        "# print(\"===============================================\")\n",
        "\n",
        "\n",
        "# for z in one.keys():\n",
        "#   print(z)\n",
        "#   print(\"---------\")\n",
        "#   for y in one[z].keys():\n",
        "#     print(y)\n",
        "#     print(one[z][y])\n",
        "#   print(\"=============\")\n",
        "# z = x['conv_1_W']\n",
        "# for y in z:\n",
        "#   print(y)"
      ],
      "execution_count": 0,
      "outputs": []
    },
    {
      "cell_type": "code",
      "metadata": {
        "id": "WtCia1eXTqtK",
        "colab_type": "code",
        "colab": {}
      },
      "source": [
        ""
      ],
      "execution_count": 0,
      "outputs": []
    }
  ]
}